{
 "cells": [
  {
   "cell_type": "code",
   "execution_count": null,
   "id": "6920afc7-3242-4436-9c72-39d8d58057c7",
   "metadata": {},
   "outputs": [
    {
     "name": "stdin",
     "output_type": "stream",
     "text": [
      "Please enter your weight in kg 97\n",
      "Please enter your height in cm 170\n",
      "Please enter your age 50\n"
     ]
    },
    {
     "name": "stdout",
     "output_type": "stream",
     "text": [
      "--> You have a high risk of diabetes!\n",
      "\n"
     ]
    },
    {
     "name": "stdin",
     "output_type": "stream",
     "text": [
      "Do you want to try again? (Y/N) Y\n",
      "Please enter your weight in kg 174\n",
      "Please enter your height in cm 174\n",
      "Please enter your age 25\n"
     ]
    },
    {
     "name": "stdout",
     "output_type": "stream",
     "text": [
      "--> You have a high risk of diabetes!\n",
      "\n"
     ]
    },
    {
     "name": "stdin",
     "output_type": "stream",
     "text": [
      "Do you want to try again? (Y/N) 67\n",
      "Please enter your weight in kg 174\n",
      "Please enter your height in cm 190\n",
      "Please enter your age 25\n"
     ]
    },
    {
     "name": "stdout",
     "output_type": "stream",
     "text": [
      "--> You don't have a high risk of diabetes!\n",
      "\n"
     ]
    }
   ],
   "source": [
    "import pandas as pd\n",
    "from sklearn import linear_model, metrics, model_selection, svm\n",
    "\n",
    "url = \"https://raw.githubusercontent.com/lemonslayer/WGU-capstone/main/Diabetes%20data.csv\"\n",
    "names = ['BMI','Age','Risk']\n",
    "\n",
    "df = pd.read_csv(url, names = names)\n",
    "\n",
    "mylog_model = linear_model.LogisticRegression(max_iter=1000)\n",
    "mysvm_model = svm.SVC(max_iter=1000)\n",
    "\n",
    "y = df.values[:,2]\n",
    "\n",
    "X = df.values[:,0:2]\n",
    "\n",
    "X_train, X_test, y_train, y_test = model_selection.train_test_split(X,y,test_size=0.3)\n",
    "\n",
    "mysvm_model.fit(X_train, y_train)\n",
    "y_pred_svm = mysvm_model.predict(X_test)\n",
    "\n",
    "again = True\n",
    "while(again == True):\n",
    "    weight = float(input(\"Please enter your weight in kg\"))\n",
    "    height = float(input(\"Please enter your height in cm\"))/100\n",
    "    age = int(input(\"Please enter your age\"))\n",
    "\n",
    "    BMI = round(weight / (height ** 2),1)\n",
    "    if(mysvm_model.predict([[BMI, age]])):\n",
    "        print(\"--> You have a high risk of diabetes!\\n\")\n",
    "    else:\n",
    "        print(\"--> You don't have a high risk of diabetes!\\n\")\n",
    "    tryAgain = str(input(\"Do you want to try again? (Y/N)\"))\n",
    "    if(tryAgain == 'N'):\n",
    "        again = False"
   ]
  },
  {
   "cell_type": "code",
   "execution_count": null,
   "id": "9d1df842-43e0-4ece-a0b6-c001ec206177",
   "metadata": {},
   "outputs": [],
   "source": []
  }
 ],
 "metadata": {
  "kernelspec": {
   "display_name": "Python 3 (ipykernel)",
   "language": "python",
   "name": "python3"
  },
  "language_info": {
   "codemirror_mode": {
    "name": "ipython",
    "version": 3
   },
   "file_extension": ".py",
   "mimetype": "text/x-python",
   "name": "python",
   "nbconvert_exporter": "python",
   "pygments_lexer": "ipython3",
   "version": "3.11.7"
  }
 },
 "nbformat": 4,
 "nbformat_minor": 5
}
