{
  "nbformat": 4,
  "nbformat_minor": 0,
  "metadata": {
    "colab": {
      "provenance": [],
      "authorship_tag": "ABX9TyNAjRZV0uRRpWZp99SxIjbz",
      "include_colab_link": true
    },
    "kernelspec": {
      "name": "python3",
      "display_name": "Python 3"
    },
    "language_info": {
      "name": "python"
    }
  },
  "cells": [
    {
      "cell_type": "markdown",
      "metadata": {
        "id": "view-in-github",
        "colab_type": "text"
      },
      "source": [
        "<a href=\"https://colab.research.google.com/github/lemonslayer/WGU-capstone/blob/main/WGU_Capstone_Tuan_Dat_Doan.ipynb\" target=\"_parent\"><img src=\"https://colab.research.google.com/assets/colab-badge.svg\" alt=\"Open In Colab\"/></a>"
      ]
    },
    {
      "cell_type": "code",
      "execution_count": null,
      "metadata": {
        "id": "XwTPWXkPG5wo"
      },
      "outputs": [],
      "source": [
        "import pandas as pd\n",
        "from sklearn import linear_model, metrics, model_selection, svm\n",
        "\n",
        "url = \"https://raw.githubusercontent.com/lemonslayer/WGU-capstone/main/Diabetes%20data.csv\"\n",
        "names = ['BMI','Age','Risk']\n",
        "\n",
        "df = pd.read_csv(url, names = names)\n",
        "\n",
        "mylog_model = linear_model.LogisticRegression(max_iter=1000)\n",
        "mysvm_model = svm.SVC(max_iter=1000)\n",
        "\n",
        "y = df.values[:,2]\n",
        "\n",
        "X = df.values[:,0:2]\n",
        "\n",
        "X_train, X_test, y_train, y_test = model_selection.train_test_split(X,y,test_size=0.3)\n",
        "\n",
        "mysvm_model.fit(X_train, y_train)\n",
        "y_pred_svm = mysvm_model.predict(X_test)\n",
        "\n",
        "again = True\n",
        "while(again == True):\n",
        "    weight = float(input(\"Please enter your weight in kg: \"))\n",
        "    height = float(input(\"Please enter your height in cm: \"))/100\n",
        "    age = int(input(\"Please enter your age: \"))\n",
        "\n",
        "    BMI = round(weight / (height ** 2),1)\n",
        "    if(mysvm_model.predict([[BMI, age]])):\n",
        "        print(\"--> You have a high risk of diabetes!\\n\")\n",
        "    else:\n",
        "        print(\"--> You don't have a high risk of diabetes!\\n\")\n",
        "    tryAgain = str(input(\"Do you want to try again? (Y/N)\"))\n",
        "    if(tryAgain == 'N'):\n",
        "        again = False"
      ]
    }
  ]
}